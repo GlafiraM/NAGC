{
 "cells": [
  {
   "cell_type": "markdown",
   "metadata": {},
   "source": [
    "# NAGC sample program"
   ]
  },
  {
   "cell_type": "code",
   "execution_count": 1,
   "metadata": {},
   "outputs": [],
   "source": [
    "import NAGC_class\n",
    "import build_graph\n",
    "import evaluate\n",
    "import init_kmeans"
   ]
  },
  {
   "cell_type": "markdown",
   "metadata": {},
   "source": [
    "## Choose data you would like to use\n",
    "### data statics are displayed"
   ]
  },
  {
   "cell_type": "code",
   "execution_count": 2,
   "metadata": {},
   "outputs": [
    {
     "name": "stdout",
     "output_type": "stream",
     "text": [
      "cite\n",
      "number of nodes : 877\n",
      "number of attributes : 1703\n",
      "number of edges : 1480\n"
     ]
    }
   ],
   "source": [
    "data=\"WebKB_univ\"\n",
    "# data=\"citeseer\"\n",
    "# data = \"polblog\"\n",
    "# data = \"cora\"\n",
    "data_path = \"data/\"+data\n",
    "S, W, X, true_clus, flag, A_ori = build_graph.build_graph(data_path)"
   ]
  },
  {
   "cell_type": "code",
   "execution_count": 3,
   "metadata": {},
   "outputs": [],
   "source": [
    "k1=4 # number of clusters you want to extract\n",
    "k2=20 # number of topic2 "
   ]
  },
  {
   "cell_type": "markdown",
   "metadata": {},
   "source": [
    "## K-Means initialization\n",
    "### Please run kmeans for both k1 and k2."
   ]
  },
  {
   "cell_type": "code",
   "execution_count": 4,
   "metadata": {},
   "outputs": [
    {
     "name": "stdout",
     "output_type": "stream",
     "text": [
      "WebKB_univ\n",
      "cite\n",
      "number of nodes : 877\n",
      "number of attributes : 1703\n",
      "number of edges : 1480\n",
      "['cornell', 'wisconsin', 'washington', 'texas']\n"
     ]
    }
   ],
   "source": [
    "init_kmeans.init_kmeans(k1,data)"
   ]
  },
  {
   "cell_type": "code",
   "execution_count": 5,
   "metadata": {},
   "outputs": [
    {
     "name": "stdout",
     "output_type": "stream",
     "text": [
      "WebKB_univ\n",
      "cite\n",
      "number of nodes : 877\n",
      "number of attributes : 1703\n",
      "number of edges : 1480\n",
      "['cornell', 'wisconsin', 'washington', 'texas']\n"
     ]
    }
   ],
   "source": [
    "init_kmeans.init_kmeans(k2,data)"
   ]
  },
  {
   "cell_type": "markdown",
   "metadata": {},
   "source": [
    "## Set the parameters and Run the model"
   ]
  },
  {
   "cell_type": "code",
   "execution_count": 6,
   "metadata": {},
   "outputs": [
    {
     "name": "stdout",
     "output_type": "stream",
     "text": [
      "optimizing_time:1.4257469177246094[sec]\n"
     ]
    }
   ],
   "source": [
    "lam=0.0001 # balancing parameter between the topology and attributes\n",
    "rho=0.55\n",
    "iteration=100 # number of iterations\n",
    "init=1 # 0: random initialization, 1: kmeans initialization\n",
    "\n",
    "NAGC = NAGC_class.NAGC(k1,k2,lam,S,W,X,data,init,rho)\n",
    "U = NAGC.fit_predict()"
   ]
  },
  {
   "cell_type": "markdown",
   "metadata": {},
   "source": [
    "## Clustering results are evaluated with (modularity, entropy and ARI)"
   ]
  },
  {
   "cell_type": "code",
   "execution_count": 7,
   "metadata": {},
   "outputs": [
    {
     "name": "stdout",
     "output_type": "stream",
     "text": [
      "modularity: 0.7377830006088406\n",
      "entropy: 0.15230974184210738\n",
      "ARI: 0.9939919466847695\n"
     ]
    }
   ],
   "source": [
    "k = k1\n",
    "clus=[]\n",
    "for i in range(U.shape[1]):\n",
    "    clus.append([])\n",
    "pred = U.argmax(1)\n",
    "for i in range(U.shape[0]):\n",
    "    clus[pred[i]].append(i)\n",
    "print(\"modularity: \" + str(evaluate.cal_modularity(clus,S,k)))\n",
    "print(\"entropy: \" + str(evaluate.cal_entropy(clus,X,k)))\n",
    "if true_clus != []:\n",
    "    # print(\"NMI: \" + str(evaluate.cal_nmi(true_clus,clus)))\n",
    "    print(\"ARI: \" + str(evaluate.ARI(true_clus,pred)))"
   ]
  }
 ],
 "metadata": {
  "kernelspec": {
   "display_name": "Python 3",
   "language": "python",
   "name": "python3"
  },
  "language_info": {
   "codemirror_mode": {
    "name": "ipython",
    "version": 3
   },
   "file_extension": ".py",
   "mimetype": "text/x-python",
   "name": "python",
   "nbconvert_exporter": "python",
   "pygments_lexer": "ipython3",
   "version": "3.6.0"
  }
 },
 "nbformat": 4,
 "nbformat_minor": 2
}
